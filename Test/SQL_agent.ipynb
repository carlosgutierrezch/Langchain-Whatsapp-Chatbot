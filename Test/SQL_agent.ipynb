{
 "cells": [
  {
   "cell_type": "markdown",
   "metadata": {},
   "source": [
    "Create a test sql database from titanic dataset."
   ]
  },
  {
   "cell_type": "markdown",
   "metadata": {},
   "source": [
    "https://python.langchain.com/docs/use_cases/sql/csv/"
   ]
  },
  {
   "cell_type": "code",
   "execution_count": 1,
   "metadata": {},
   "outputs": [],
   "source": [
    "import pandas as pd\n",
    "from pyprojroot import here"
   ]
  },
  {
   "cell_type": "code",
   "execution_count": 2,
   "metadata": {},
   "outputs": [],
   "source": [
    "df = pd.read_csv(here(\"/Users/main/Desktop/chatbot 2/data/todos_restaurantes.csv\"),index_col=0)\n",
    "# print(df.shape)\n",
    "\n",
    "# # print(df.columns.tolist())\n",
    "# display(df.head(3))"
   ]
  },
  {
   "cell_type": "markdown",
   "metadata": {},
   "source": [
    "### **SQL**\n",
    "\n",
    "Using SQL to interact with CSV data is the recommended approach because it is easier to limit permissions and sanitize queries than with arbitrary Python.\n",
    "\n",
    "Most SQL databases make it easy to load a CSV file in as a table (DuckDB, SQLite, etc.). Once you’ve done this you can use all of the chain and agent-creating techniques outlined in the SQL use case guide. Here’s a quick example of how we might do this with SQLite:"
   ]
  },
  {
   "cell_type": "code",
   "execution_count": 3,
   "metadata": {},
   "outputs": [],
   "source": [
    "from sqlalchemy import create_engine, inspect\n",
    "db_path=\"all_data.db\"\n",
    "engine = create_engine(f\"sqlite:///{db_path}\")\n",
    "\n",
    "connection = engine.connect()\n",
    "\n",
    "inspector = inspect(engine)\n",
    "\n",
    "table_names = inspector.get_table_names()"
   ]
  },
  {
   "cell_type": "code",
   "execution_count": 4,
   "metadata": {},
   "outputs": [],
   "source": [
    "# for table_name in table_names:\n",
    "#     print(f\"Information for table: {table_name}\")\n",
    "    \n",
    "#     print(f\"Schema: {inspector.get_schema_names()}\")\n",
    "    \n",
    "#     columns = inspector.get_columns(table_name)\n",
    "#     for column in columns:\n",
    "#         print(f\"Column: {column['name']} Type: {column['type']}\")\n",
    "   \n",
    "#     pk_constraint = inspector.get_pk_constraint(table_name)\n",
    "#     print(f\"Primary Key Constraint: {pk_constraint}\")\n",
    "\n",
    "#     foreign_keys = inspector.get_foreign_keys(table_name)\n",
    "#     print(f\"Foreign Keys: {foreign_keys}\")\n",
    "\n",
    "# connection.close()"
   ]
  },
  {
   "cell_type": "code",
   "execution_count": 5,
   "metadata": {},
   "outputs": [],
   "source": [
    "from langchain_community.utilities import SQLDatabase\n",
    "\n",
    "db= SQLDatabase(engine=engine)"
   ]
  },
  {
   "cell_type": "code",
   "execution_count": 6,
   "metadata": {},
   "outputs": [
    {
     "name": "stdout",
     "output_type": "stream",
     "text": [
      "sqlite\n",
      "['data_restaurants']\n"
     ]
    }
   ],
   "source": [
    "print(db.dialect)\n",
    "print(db.get_usable_table_names())"
   ]
  },
  {
   "cell_type": "markdown",
   "metadata": {},
   "source": [
    "For multiple csv files, we can create a sql with multiple tables:\n",
    "```\n",
    "df1.to_sql(\"csv1_name\", engine, index=False)\n",
    "df2.to_sql(\"csv2_name\", engine, index=False)\n",
    "```"
   ]
  },
  {
   "cell_type": "code",
   "execution_count": 9,
   "metadata": {},
   "outputs": [
    {
     "data": {
      "text/plain": [
       "'[(None, 0, 1, \\'600 00 00 00\\', \\'Cafetería Amazonas\\', 1, \"[{\\'close\\': {\\'day\\': 0, \\'time\\': \\'2100\\'}, \\'open\\': {\\'day\\': 0, \\'time\\': \\'1100\\'}}, {\\'close\\': {\\'day\\': 1, \\'time\\': \\'2300\\'}, \\'open\\': {\\'day\\': 1, \\'time\\': \\'0800\\'}}, {\\'close\\': {\\'day\\': 2, \\'time\\': \\'2300\\'}, \\'open\\': {\\'day\\': 2, \\'time\\': \\'0800\\'}}, {\\'close\\': {\\'day\\': 3, \\'time\\': \\'2300\\'}, \\'open\\': {\\'day\\': 3, \\'time\\':...\", \"[\\'Monday: 8:00\\\\\\\\u202fAM\\\\\\\\u2009–\\\\\\\\u200911:00\\\\\\\\u202fPM\\', \\'Tuesday: 8:00\\\\\\\\u202fAM\\\\\\\\u2009–\\\\\\\\u200911:00\\\\\\\\u202fPM\\', \\'Wednesday: 8:00\\\\\\\\u202fAM\\\\\\\\u2009–\\\\\\\\u200911:00\\\\\\\\u202fPM\\', \\'Thursday: 8:00\\\\\\\\u202fAM\\\\\\\\u2009–\\\\\\\\u200911:00\\\\\\\\u202fPM\\', \\'Friday: 8:00\\\\\\\\u202fAM\\\\\\\\u2009–\\\\\\\\u200911:00\\\\\\\\u202fPM\\', \\'Saturday:...\", \\'ChIJKdFsc7soQg0RlIQ-k7uz4BU\\', None, 1.0, \"[{\\'author_name\\': \\'Cebollo\\', \\'author_url\\': \\'https://www.google.com/maps/contrib/112758889190499253904/reviews\\', \\'language\\': \\'en-US\\', \\'original_language\\': \\'es\\', \\'profile_photo_url\\':...\", 1, 1, None, None, None, 0, 1, 1, \\'https://maps.google.com/?cid=1576457487790277780\\', 1.0, None, None, None, None, None, \"[\\'cafe\\', \\'bar\\', \\'restaurant\\', \\'point_of_interest\\', \\'food\\', \\'establishment\\']\", \\'Calle de Hermosilla, 91, Madrid\\', 40.42608329999999, -3.6763192), (None, None, 1, \\'0857-1385-0913\\', \\'Pizza\\', 1, \"[{\\'close\\': {\\'day\\': 1, \\'time\\': \\'2000\\'}, \\'open\\': {\\'day\\': 1, \\'time\\': \\'0900\\'}}, {\\'close\\': {\\'day\\': 2, \\'time\\': \\'2000\\'}, \\'open\\': {\\'day\\': 2, \\'time\\': \\'0900\\'}}, {\\'close\\': {\\'day\\': 3, \\'time\\': \\'2000\\'}, \\'open\\': {\\'day\\': 3, \\'time\\': \\'0900\\'}}, {\\'close\\': {\\'day\\': 4, \\'time\\': \\'2000\\'}, \\'open\\': {\\'day\\': 4, \\'time\\':...\", \"[\\'Monday: 9:00\\\\\\\\u202fAM\\\\\\\\u2009–\\\\\\\\u20098:00\\\\\\\\u202fPM\\', \\'Tuesday: 9:00\\\\\\\\u202fAM\\\\\\\\u2009–\\\\\\\\u20098:00\\\\\\\\u202fPM\\', \\'Wednesday: 9:00\\\\\\\\u202fAM\\\\\\\\u2009–\\\\\\\\u20098:00\\\\\\\\u202fPM\\', \\'Thursday: 9:00\\\\\\\\u202fAM\\\\\\\\u2009–\\\\\\\\u20098:00\\\\\\\\u202fPM\\', \\'Friday: 9:00\\\\\\\\u202fAM\\\\\\\\u2009–\\\\\\\\u20098:00\\\\\\\\u202fPM\\', \\'Saturday: Closed\\', \\'Sunday: Closed\\']\", \\'ChIJJcmTo4EpQg0R4Nv5ztkukBA\\', None, 1.0, \"[{\\'author_name\\': \\'Cristian Fraile\\', \\'author_url\\': \\'https://www.google.com/maps/contrib/114452910578523572994/reviews\\', \\'language\\': \\'en-US\\', \\'original_language\\': \\'es\\', \\'profile_photo_url\\':...\", None, None, None, 1, 1, None, None, 1, \\'https://maps.google.com/?cid=1193505414268443616\\', 2.0, None, None, None, None, None, \"[\\'restaurant\\', \\'food\\', \\'point_of_interest\\', \\'establishment\\']\", \\'Paseo de la Castellana, 12, Madrid\\', 40.4278165, -3.6890491)]'"
      ]
     },
     "execution_count": 9,
     "metadata": {},
     "output_type": "execute_result"
    }
   ],
   "source": [
    "\n",
    "db.run(\"SELECT * FROM data_restaurants WHERE rating < 2 Limit 2;\")"
   ]
  },
  {
   "cell_type": "markdown",
   "metadata": {},
   "source": [
    "### **Create an agent to interact with the Database**"
   ]
  },
  {
   "cell_type": "code",
   "execution_count": 10,
   "metadata": {},
   "outputs": [],
   "source": [
    "import os\n",
    "from dotenv import load_dotenv\n",
    "import warnings\n",
    "from langchain_openai import ChatOpenAI\n",
    "\n",
    "warnings.filterwarnings(\"ignore\")\n",
    "OPEN_AI_API_KEY = os.getenv(\"OPEN_AI_API_KEY\")"
   ]
  },
  {
   "cell_type": "code",
   "execution_count": 12,
   "metadata": {},
   "outputs": [],
   "source": [
    "\n",
    "# model_name = os.getenv(\"gpt_deployment_name\")\n",
    "# azure_openai_api_key = os.environ[\"OPENAI_API_KEY\"]\n",
    "# azure_openai_endpoint = os.environ[\"OPENAI_API_BASE\"]\n",
    "\n",
    "llm = ChatOpenAI(\n",
    "    model=\"gpt-3.5-turbo\",\n",
    "    temperature=1,\n",
    "    model_name=\"amiguis\")"
   ]
  },
  {
   "cell_type": "code",
   "execution_count": 13,
   "metadata": {},
   "outputs": [
    {
     "name": "stdout",
     "output_type": "stream",
     "text": [
      "client=<openai.resources.chat.completions.Completions object at 0x10cc6ef90> async_client=<openai.resources.chat.completions.AsyncCompletions object at 0x10cc76ba0> root_client=<openai.OpenAI object at 0x10c96ef90> root_async_client=<openai.AsyncOpenAI object at 0x10cc6f0e0> temperature=1.0 model_kwargs={} openai_api_key=SecretStr('**********')\n"
     ]
    }
   ],
   "source": [
    "print(llm)"
   ]
  },
  {
   "cell_type": "code",
   "execution_count": 14,
   "metadata": {},
   "outputs": [],
   "source": [
    "from langchain_community.agent_toolkits import create_sql_agent\n",
    "agent_executor = create_sql_agent(llm, db=db, agent_type=\"openai-tools\", verbose=True)"
   ]
  },
  {
   "cell_type": "code",
   "execution_count": 17,
   "metadata": {},
   "outputs": [
    {
     "name": "stdout",
     "output_type": "stream",
     "text": [
      "\n",
      "\n",
      "\u001b[1m> Entering new SQL Agent Executor chain...\u001b[0m\n",
      "\u001b[32;1m\u001b[1;3m\n",
      "Invoking: `sql_db_list_tables` with `{}`\n",
      "\n",
      "\n",
      "\u001b[0m\u001b[38;5;200m\u001b[1;3mdata_restaurants\u001b[0m\u001b[32;1m\u001b[1;3m\n",
      "Invoking: `sql_db_schema` with `{'table_names': 'data_restaurants'}`\n",
      "\n",
      "\n",
      "\u001b[0m\u001b[33;1m\u001b[1;3m\n",
      "CREATE TABLE data_restaurants (\n",
      "\tcurbside_pickup INTEGER, \n",
      "\tdelivery INTEGER, \n",
      "\tdine_in INTEGER, \n",
      "\tformatted_phone_number TEXT, \n",
      "\tname TEXT, \n",
      "\topen_now INTEGER, \n",
      "\tperiods TEXT, \n",
      "\tweekday_text TEXT, \n",
      "\tplace_id TEXT, \n",
      "\tprice_level REAL, \n",
      "\trating REAL, \n",
      "\treviews TEXT, \n",
      "\tserves_beer INTEGER, \n",
      "\tserves_breakfast INTEGER, \n",
      "\tserves_brunch INTEGER, \n",
      "\tserves_dinner INTEGER, \n",
      "\tserves_lunch INTEGER, \n",
      "\tserves_vegetarian_food INTEGER, \n",
      "\tserves_wine INTEGER, \n",
      "\ttakeout INTEGER, \n",
      "\turl TEXT, \n",
      "\tuser_ratings_total REAL, \n",
      "\twebsite TEXT, \n",
      "\twheelchair_accessible_entrance INTEGER, \n",
      "\treservable INTEGER, \n",
      "\toverview TEXT, \n",
      "\terror_message TEXT, \n",
      "\ttypes TEXT, \n",
      "\tvicinity TEXT, \n",
      "\t\"geometry.location.lat\" REAL, \n",
      "\t\"geometry.location.lng\" REAL\n",
      ")\n",
      "\n",
      "/*\n",
      "3 rows from data_restaurants table:\n",
      "curbside_pickup\tdelivery\tdine_in\tformatted_phone_number\tname\topen_now\tperiods\tweekday_text\tplace_id\tprice_level\trating\treviews\tserves_beer\tserves_breakfast\tserves_brunch\tserves_dinner\tserves_lunch\tserves_vegetarian_food\tserves_wine\ttakeout\turl\tuser_ratings_total\twebsite\twheelchair_accessible_entrance\treservable\toverview\terror_message\ttypes\tvicinity\tgeometry.location.lat\tgeometry.location.lng\n",
      "1\t1\t1\t607 53 41 98\tCafé & Té\t1\t[{'close': {'day': 0, 'time': '2300'}, 'open': {'day': 0, 'time': '1000'}}, {'close': {'day': 1, 'ti\t['Monday: 7:30\\u202fAM\\u2009–\\u200911:00\\u202fPM', 'Tuesday: 7:30\\u202fAM\\u2009–\\u200911:00\\u202fPM'\tChIJYVL4CZcoQg0Rbx9Ui5YYxak\t2.0\t3.5\t[{'author_name': 'Robert Hutchinson', 'author_url': 'https://www.google.com/maps/contrib/11342499056\t1\t1\t1\t1\t1\t0\t1\t1\thttps://maps.google.com/?cid=12233210997683527535\t1257.0\thttps://cafeyte.es/\t1\tNone\tNone\tNone\t['meal_takeaway', 'bar', 'cafe', 'store', 'restaurant', 'point_of_interest', 'food', 'establishment'\tCalle de Goya, 18, Madrid\t40.42509999999999\t-3.683948\n",
      "None\t1\t1\t915 40 15 70\tchök - Goya (Gluten Free)\t1\t[{'close': {'day': 0, 'time': '2100'}, 'open': {'day': 0, 'time': '0900'}}, {'close': {'day': 1, 'ti\t['Monday: 9:00\\u202fAM\\u2009–\\u20099:00\\u202fPM', 'Tuesday: 9:00\\u202fAM\\u2009–\\u20099:00\\u202fPM', \tChIJy5RzZr0oQg0Rhv_Rwo4FpaM\tNone\t3.7\t[{'author_name': 'C', 'author_url': 'https://www.google.com/maps/contrib/116534577355230406296/revie\tNone\t1\tNone\tNone\tNone\tNone\tNone\tNone\thttps://maps.google.com/?cid=11791837310051549062\t193.0\thttps://www.chok.shop/\t1\tNone\tNone\tNone\t['bakery', 'store', 'restaurant', 'point_of_interest', 'food', 'establishment']\tCalle de Goya, 49, Madrid\t40.42529469999999\t-3.682068\n",
      "None\tNone\t1\t919 47 06 48\tSushiaoi\t1\t[{'close': {'day': 0, 'time': '1700'}, 'open': {'day': 0, 'time': '1300'}}, {'close': {'day': 1, 'ti\t['Monday: 1:00\\u2009–\\u20095:00\\u202fPM, 8:00\\u202fPM\\u2009–\\u200912:00\\u202fAM', 'Tuesday: 1:00\\u20\tChIJExiPF8gpQg0Rnke_Q2S8SbM\t1.0\t4.6\t[{'author_name': 'Carla Limo', 'author_url': 'https://www.google.com/maps/contrib/109829025189110906\t1\tNone\tNone\t1\t1\tNone\t1\t1\thttps://maps.google.com/?cid=12919064144908339102\t6031.0\thttp://sushiaoimadrid.com/\tNone\t1\tNone\tNone\t['restaurant', 'point_of_interest', 'food', 'establishment']\tCalle de Núñez de Balboa, 37, Madrid\t40.4257552\t-3.6828259\n",
      "*/\u001b[0m\u001b[32;1m\u001b[1;3m\n",
      "Invoking: `sql_db_query` with `{'query': 'SELECT AVG(rating) AS average_rating FROM data_restaurants'}`\n",
      "\n",
      "\n",
      "\u001b[0m\u001b[36;1m\u001b[1;3m[(4.177715401513302,)]\u001b[0m\u001b[32;1m\u001b[1;3mThe average rating in the data_restaurants table is approximately 4.18.\u001b[0m\n",
      "\n",
      "\u001b[1m> Finished chain.\u001b[0m\n"
     ]
    },
    {
     "data": {
      "text/plain": [
       "{'input': 'What is the average rating in the data_restaurants table?',\n",
       " 'output': 'The average rating in the data_restaurants table is approximately 4.18.'}"
      ]
     },
     "execution_count": 17,
     "metadata": {},
     "output_type": "execute_result"
    }
   ],
   "source": [
    "agent_executor.invoke({\"input\": \"What is the average rating in the data_restaurants table?\"})"
   ]
  }
 ],
 "metadata": {
  "kernelspec": {
   "display_name": "bot",
   "language": "python",
   "name": "python3"
  },
  "language_info": {
   "codemirror_mode": {
    "name": "ipython",
    "version": 3
   },
   "file_extension": ".py",
   "mimetype": "text/x-python",
   "name": "python",
   "nbconvert_exporter": "python",
   "pygments_lexer": "ipython3",
   "version": "3.13.0"
  }
 },
 "nbformat": 4,
 "nbformat_minor": 2
}
